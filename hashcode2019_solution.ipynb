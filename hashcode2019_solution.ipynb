{
 "cells": [
  {
   "cell_type": "markdown",
   "metadata": {},
   "source": [
    "# Hashcode 2019"
   ]
  },
  {
   "cell_type": "code",
   "execution_count": null,
   "metadata": {},
   "outputs": [],
   "source": [
    "import os\n",
    "import itertools\n",
    "import multiprocessing\n",
    "from collections import namedtuple\n",
    "from operator import itemgetter"
   ]
  },
  {
   "cell_type": "code",
   "execution_count": null,
   "metadata": {},
   "outputs": [],
   "source": [
    "INPUT = \"data\"\n",
    "OUTPUT = \"solutions\""
   ]
  },
  {
   "cell_type": "markdown",
   "metadata": {},
   "source": [
    "Parse input"
   ]
  },
  {
   "cell_type": "code",
   "execution_count": null,
   "metadata": {},
   "outputs": [],
   "source": [
    "Image = namedtuple('Image', 'id orientation num_tags tags')\n",
    "def parse_input(f):\n",
    "    data = open(f).read().splitlines()\n",
    "    images = []\n",
    "    for i, d in enumerate(data[1:]):\n",
    "        d_split = d.split()\n",
    "        images.append(Image(i, d_split[0], int(d_split[1]), set(d_split[2:])))\n",
    "    return images"
   ]
  },
  {
   "cell_type": "markdown",
   "metadata": {},
   "source": [
    "Helpers for creating slides"
   ]
  },
  {
   "cell_type": "code",
   "execution_count": null,
   "metadata": {},
   "outputs": [],
   "source": [
    "Slide = namedtuple('Slide', 'images num_tags tags')\n",
    "def gen_slide(s):\n",
    "    if type(s) == list:\n",
    "        tags = s[0].tags.union(s[1].tags)\n",
    "        return Slide([s[0].id, s[1].id], len(tags), tags)\n",
    "    else:\n",
    "        return Slide(s.id, s.num_tags, s.tags)"
   ]
  },
  {
   "cell_type": "code",
   "execution_count": null,
   "metadata": {},
   "outputs": [],
   "source": [
    "def sort_images_desc(images, reverse=True):\n",
    "    return sorted(images, key=itemgetter(Image._fields.index('num_tags')), reverse=reverse)\n",
    "\n",
    "def sort_slideshow_asc(slideshow, reverse=False):\n",
    "    return sorted(slideshow, key=itemgetter(Slide._fields.index('num_tags')), reverse=reverse)"
   ]
  },
  {
   "cell_type": "markdown",
   "metadata": {},
   "source": [
    "Combine v images to build v slides.\n",
    "\n",
    "1) baseline\n",
    "2) greedy"
   ]
  },
  {
   "cell_type": "code",
   "execution_count": null,
   "metadata": {},
   "outputs": [],
   "source": [
    "def compute_v_slides(images):\n",
    "    images = sort_images_desc(images)\n",
    "    slideshow = []\n",
    "    i = 0\n",
    "    while i < len(images) / 2:\n",
    "        slideshow.append([images[i], images[len(images)-1-i]])\n",
    "        i += 1\n",
    "    return slideshow"
   ]
  },
  {
   "cell_type": "code",
   "execution_count": null,
   "metadata": {},
   "outputs": [],
   "source": [
    "def score_v_slide(a, b):\n",
    "    return len(a.tags.union(b.tags))"
   ]
  },
  {
   "cell_type": "code",
   "execution_count": null,
   "metadata": {},
   "outputs": [],
   "source": [
    "def compute_v_slides_greedy(images, pad=100000):\n",
    "    \"\"\"\n",
    "    Create v slides by combining two v images that yield a slide with\n",
    "    a high number of unique tags.    \n",
    "    \"\"\"\n",
    "    images = sort_images_desc(images, reverse=True)\n",
    "    slideshow = []\n",
    "    while len(images) > 1:\n",
    "        a = images[0]\n",
    "        del images[0]\n",
    "        best_id = len(images) - 1\n",
    "        best_score = -1\n",
    "        for i in range(max(0, len(images)-1-pad), len(images) - 1):\n",
    "            cur_score = score_v_slide(a, images[i])\n",
    "            if cur_score > best_score:\n",
    "                best_id = i\n",
    "                best_score = cur_score\n",
    "        slideshow.append([a, images[best_id]])\n",
    "        del images[best_id]\n",
    "    return slideshow"
   ]
  },
  {
   "cell_type": "markdown",
   "metadata": {},
   "source": [
    "Reorder slide show (greedy)"
   ]
  },
  {
   "cell_type": "code",
   "execution_count": null,
   "metadata": {},
   "outputs": [],
   "source": [
    "def score(a, b):\n",
    "    return min(map(len, [a.tags - b.tags, a.tags.intersection(b.tags), b.tags - a.tags]))"
   ]
  },
  {
   "cell_type": "code",
   "execution_count": null,
   "metadata": {},
   "outputs": [],
   "source": [
    "def reorder_slides(slideshow, pad=100000):\n",
    "    orig_length = len(slideshow)\n",
    "    slides_sorted = sort_slideshow_asc(slideshow)\n",
    "    slideshow = [slides_sorted[0]]\n",
    "    best_id = 0\n",
    "    del slides_sorted[0]\n",
    "    while len(slides_sorted) > 0:\n",
    "        best_score = -1000000\n",
    "        for i in range(max(0, best_id - pad), min(best_id + pad, len(slides_sorted))):\n",
    "            cur_score = score(slideshow[-1], slides_sorted[i])\n",
    "            if cur_score > best_score:\n",
    "                best_score = cur_score\n",
    "                best_id = i\n",
    "        slideshow.append(slides_sorted[best_id])\n",
    "        del slides_sorted[best_id]\n",
    "        if len(slideshow) % 1000 == 0:\n",
    "            print(f\"{len(slideshow) / orig_length * 100:2.3f}%\")\n",
    "    return slideshow"
   ]
  },
  {
   "cell_type": "code",
   "execution_count": null,
   "metadata": {},
   "outputs": [],
   "source": [
    "def compute(images):\n",
    "    v_images = [x for x in images if x.orientation == \"V\"]\n",
    "    h_images = [x for x in images if x.orientation == \"H\"]\n",
    "    slideshow = h_images\n",
    "    #slideshow += compute_v_slides(v_images)\n",
    "    slideshow += compute_v_slides_greedy(v_images)\n",
    "    slideshow = list(map(gen_slide, slideshow))\n",
    "    slideshow = reorder_slides(slideshow)\n",
    "    return slideshow"
   ]
  },
  {
   "cell_type": "markdown",
   "metadata": {},
   "source": [
    "Generate output"
   ]
  },
  {
   "cell_type": "code",
   "execution_count": null,
   "metadata": {},
   "outputs": [],
   "source": [
    "def generate_output(s):\n",
    "    result = []\n",
    "    result.append(f\"{len(s)}\")\n",
    "    for slide in s:\n",
    "        if type(slide.images) == list:\n",
    "            result.append(f\"{slide.images[0]} {slide.images[1]}\")\n",
    "        else:\n",
    "            result.append(f\"{slide.images}\")\n",
    "    return result"
   ]
  },
  {
   "cell_type": "markdown",
   "metadata": {},
   "source": [
    "---\n",
    "\n",
    "#### Compute solutions"
   ]
  },
  {
   "cell_type": "code",
   "execution_count": null,
   "metadata": {},
   "outputs": [],
   "source": [
    "def run(i):\n",
    "    print(i)\n",
    "    parsed_input = parse_input(os.path.join(INPUT, i))\n",
    "    s = compute(parsed_input)\n",
    "    with open(os.path.join(OUTPUT, f\"{i}_result\"), \"w\") as f:\n",
    "        f.writelines(map(lambda x: f\"{x}\\n\", generate_output(s)))\n",
    "\n",
    "files = sorted([x for x in os.listdir(INPUT) if not x.startswith(\".\")])\n",
    "print(files)\n",
    "#list(map(run, files))\n",
    "pool = multiprocessing.Pool(processes=5)\n",
    "pool.map(run, files)"
   ]
  }
 ],
 "metadata": {
  "kernelspec": {
   "display_name": "Python 3",
   "language": "python",
   "name": "python3"
  },
  "language_info": {
   "codemirror_mode": {
    "name": "ipython",
    "version": 3
   },
   "file_extension": ".py",
   "mimetype": "text/x-python",
   "name": "python",
   "nbconvert_exporter": "python",
   "pygments_lexer": "ipython3",
   "version": "3.7.1"
  }
 },
 "nbformat": 4,
 "nbformat_minor": 2
}
